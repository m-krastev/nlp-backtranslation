{
 "cells": [
  {
   "cell_type": "code",
   "execution_count": 1,
   "metadata": {},
   "outputs": [
    {
     "name": "stderr",
     "output_type": "stream",
     "text": [
      "/Users/Matey/miniconda3/envs/mlkit/lib/python3.11/site-packages/transformers/utils/generic.py:260: UserWarning: torch.utils._pytree._register_pytree_node is deprecated. Please use torch.utils._pytree.register_pytree_node instead.\n",
      "  torch.utils._pytree._register_pytree_node(\n",
      "/Users/Matey/miniconda3/envs/mlkit/lib/python3.11/site-packages/transformers/utils/generic.py:260: UserWarning: torch.utils._pytree._register_pytree_node is deprecated. Please use torch.utils._pytree.register_pytree_node instead.\n",
      "  torch.utils._pytree._register_pytree_node(\n"
     ]
    },
    {
     "data": {
      "application/vnd.jupyter.widget-view+json": {
       "model_id": "1c2538e2dbe94f1ead11582b28a3476e",
       "version_major": 2,
       "version_minor": 0
      },
      "text/plain": [
       "Loading checkpoint shards:   0%|          | 0/3 [00:00<?, ?it/s]"
      ]
     },
     "metadata": {},
     "output_type": "display_data"
    },
    {
     "name": "stdout",
     "output_type": "stream",
     "text": [
      "['Translate this from Chinese to English:\\nChinese: 我爱机器翻译。\\nEnglish: I love machine translation.']\n"
     ]
    }
   ],
   "source": [
    "import torch\n",
    "from transformers import AutoModelForCausalLM\n",
    "from transformers import AutoTokenizer\n",
    "\n",
    "max_new_tokens = 128\n",
    "SRC = \"German\"\n",
    "TGT = \"English\"\n",
    "# Load base model and LoRA weights\n",
    "model = AutoModelForCausalLM.from_pretrained(\"haoranxu/ALMA-7B-R\", torch_dtype=torch.float32, device_map=\"cpu\")\n",
    "tokenizer = AutoTokenizer.from_pretrained(\"haoranxu/ALMA-7B-R\", padding_side='left')\n",
    "\n",
    "def create_prompt(tokenizer, input_text: str | list[str], max_length=128, src=\"German\", tgt=\"English\"):\n",
    "    if isinstance(input_text, str):\n",
    "        input_text = [input_text]\n",
    "    prompt = f\"Translate this from {src} to {tgt}:\\n{src}: {{}}.\\n{tgt}:\"\n",
    "\n",
    "    prompts = [\n",
    "        prompt.format(text) for text in input_text\n",
    "    ]\n",
    "    \n",
    "    input_ids = tokenizer(prompts, return_tensors=\"pt\", padding=True, max_length=max_length, truncation=True).input_ids\n",
    "    return input_ids\n",
    "\n",
    "input_ids=create_prompt(tokenizer, \"Ich bin ein Berliner\", max_length=max_new_tokens, src=SRC, tgt=TGT)"
   ]
  },
  {
   "cell_type": "code",
   "execution_count": 3,
   "metadata": {},
   "outputs": [],
   "source": [
    "# Read input file\n",
    "input_file = \"Data/it-mono/train.en\"\n",
    "with open(input_file, \"r\") as f:\n",
    "    # Honestly if you're using a big file you should probably read and process it line by line, instead of all at once\n",
    "    input_text = f.readline().splitlines()"
   ]
  },
  {
   "cell_type": "code",
   "execution_count": null,
   "metadata": {},
   "outputs": [],
   "source": [
    "# Translation\n",
    "input_ids = create_prompt(tokenizer, input_text[:10], max_length=max_new_tokens, src=SRC, tgt=TGT)\n",
    "with torch.no_grad():\n",
    "    generated_ids = model.generate(input_ids=input_ids, num_beams=5, max_new_tokens=max_new_tokens, do_sample=True, temperature=0.6, top_p=0.9)\n",
    "outputs = tokenizer.batch_decode(generated_ids, skip_special_tokens=True)\n"
   ]
  }
 ],
 "metadata": {
  "kernelspec": {
   "display_name": "mlkit",
   "language": "python",
   "name": "python3"
  },
  "language_info": {
   "codemirror_mode": {
    "name": "ipython",
    "version": 3
   },
   "file_extension": ".py",
   "mimetype": "text/x-python",
   "name": "python",
   "nbconvert_exporter": "python",
   "pygments_lexer": "ipython3",
   "version": "3.1.undefined"
  }
 },
 "nbformat": 4,
 "nbformat_minor": 2
}
