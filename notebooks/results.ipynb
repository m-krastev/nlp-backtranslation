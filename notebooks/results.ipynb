{
 "cells": [
  {
   "cell_type": "code",
   "execution_count": 35,
   "metadata": {},
   "outputs": [
    {
     "data": {
      "text/html": [
       "<div>\n",
       "<style scoped>\n",
       "    .dataframe tbody tr th:only-of-type {\n",
       "        vertical-align: middle;\n",
       "    }\n",
       "\n",
       "    .dataframe tbody tr th {\n",
       "        vertical-align: top;\n",
       "    }\n",
       "\n",
       "    .dataframe thead tr th {\n",
       "        text-align: left;\n",
       "    }\n",
       "</style>\n",
       "<table border=\"1\" class=\"dataframe\">\n",
       "  <thead>\n",
       "    <tr>\n",
       "      <th></th>\n",
       "      <th>Model</th>\n",
       "      <th colspan=\"2\" halign=\"left\">IT</th>\n",
       "      <th colspan=\"2\" halign=\"left\">NEWS</th>\n",
       "    </tr>\n",
       "    <tr>\n",
       "      <th></th>\n",
       "      <th>-</th>\n",
       "      <th>BLEU</th>\n",
       "      <th>COMET</th>\n",
       "      <th>BLEU</th>\n",
       "      <th>COMET</th>\n",
       "    </tr>\n",
       "  </thead>\n",
       "  <tbody>\n",
       "    <tr>\n",
       "      <th>0</th>\n",
       "      <td>Base</td>\n",
       "      <td>38.31±5.7</td>\n",
       "      <td>81.9±14.5</td>\n",
       "      <td>29.23±7.7</td>\n",
       "      <td>83.4±7.7</td>\n",
       "    </tr>\n",
       "    <tr>\n",
       "      <th>1</th>\n",
       "      <td>FT w/ PARA</td>\n",
       "      <td>38.92±4.9</td>\n",
       "      <td>82.5±14.5</td>\n",
       "      <td>28.6±7.3</td>\n",
       "      <td>82.7±6.4</td>\n",
       "    </tr>\n",
       "    <tr>\n",
       "      <th>2</th>\n",
       "      <td>FT w/ BT</td>\n",
       "      <td>41.83±5.6</td>\n",
       "      <td>84.0±7.1</td>\n",
       "      <td>27.11±7.2</td>\n",
       "      <td>82.0±8.4</td>\n",
       "    </tr>\n",
       "    <tr>\n",
       "      <th>3</th>\n",
       "      <td>FT w/ PARA+BT</td>\n",
       "      <td>39.88±6.2</td>\n",
       "      <td>86.12±10.3</td>\n",
       "      <td>26.66±7.2</td>\n",
       "      <td>82.2±8.4</td>\n",
       "    </tr>\n",
       "  </tbody>\n",
       "</table>\n",
       "</div>"
      ],
      "text/plain": [
       "           Model         IT                   NEWS          \n",
       "               -       BLEU       COMET       BLEU     COMET\n",
       "0           Base  38.31±5.7   81.9±14.5  29.23±7.7  83.4±7.7\n",
       "1     FT w/ PARA  38.92±4.9   82.5±14.5   28.6±7.3  82.7±6.4\n",
       "2       FT w/ BT  41.83±5.6    84.0±7.1  27.11±7.2  82.0±8.4\n",
       "3  FT w/ PARA+BT  39.88±6.2  86.12±10.3  26.66±7.2  82.2±8.4"
      ]
     },
     "metadata": {},
     "output_type": "display_data"
    },
    {
     "name": "stdout",
     "output_type": "stream",
     "text": [
      "\\begin{tabular}{lcccc}\n",
      "\\toprule\n",
      "Model & \\multicolumn{2}{c}{IT} & \\multicolumn{2}{c}{NEWS} \\\\\n",
      "- & BLEU & COMET & BLEU & COMET \\\\\n",
      "\\midrule\n",
      "Base & 38.31±5.7 & 81.9±14.5 & \\bfseries 29.23±7.7 & \\bfseries 83.4±7.7 \\\\\n",
      "FT w/ PARA & 38.92±4.9 & 82.5±14.5 & 28.6±7.3 & 82.7±6.4 \\\\\n",
      "FT w/ BT & \\bfseries 41.83±5.6 & 84.0±7.1 & 27.11±7.2 & 82.0±8.4 \\\\\n",
      "\\bfseries FT w/ PARA+BT & 39.88±6.2 & \\bfseries 86.12±10.3 & 26.66±7.2 & 82.2±8.4 \\\\\n",
      "\\bottomrule\n",
      "\\end{tabular}\n",
      "\n"
     ]
    }
   ],
   "source": [
    "import pandas as pd\n",
    "df = pd.read_csv('./results.csv', header=[0,1])\n",
    "\n",
    "df.columns = pd.MultiIndex.from_tuples(df.columns)\n",
    "display(df)\n",
    "print(\n",
    "    df.style.hide(axis=\"index\").highlight_max(props='font-weight: bold', axis=0).to_latex(convert_css=True, hrules=True, multicol_align=\"c\", column_format = 'l' + 'c'*(1+len(df.columns.levels[1])))\n",
    ")"
   ]
  }
 ],
 "metadata": {
  "kernelspec": {
   "display_name": ".venv",
   "language": "python",
   "name": "python3"
  },
  "language_info": {
   "codemirror_mode": {
    "name": "ipython",
    "version": 3
   },
   "file_extension": ".py",
   "mimetype": "text/x-python",
   "name": "python",
   "nbconvert_exporter": "python",
   "pygments_lexer": "ipython3",
   "version": "3.11.4"
  }
 },
 "nbformat": 4,
 "nbformat_minor": 2
}
